{
 "metadata": {
  "language_info": {
   "codemirror_mode": {
    "name": "ipython",
    "version": 3
   },
   "file_extension": ".py",
   "mimetype": "text/x-python",
   "name": "python",
   "nbconvert_exporter": "python",
   "pygments_lexer": "ipython3",
   "version": "3.7.9-final"
  },
  "orig_nbformat": 2,
  "kernelspec": {
   "name": "python3",
   "display_name": "Python 3.7.9 64-bit ('books_mongo': conda)",
   "metadata": {
    "interpreter": {
     "hash": "211542792df036fa74c8b7042fa91fe6a1f08c924d8004e403c9954d4c2eea10"
    }
   }
  }
 },
 "nbformat": 4,
 "nbformat_minor": 2,
 "cells": [
  {
   "cell_type": "code",
   "execution_count": 1,
   "metadata": {},
   "outputs": [],
   "source": [
    "import pandas as pd"
   ]
  },
  {
   "cell_type": "code",
   "execution_count": 2,
   "metadata": {},
   "outputs": [],
   "source": [
    "# Parse data as pandas dataframes:\n",
    "ratings = pd.read_csv('./BX-CSV-Dump/BX-Book-Ratings.csv', delimiter=';', header=0, encoding='latin1')\n",
    "books = pd.read_csv('./BX-CSV-Dump/BX-Books.csv', delimiter=';', header=0, encoding='latin1', usecols=[0])\n",
    "users = pd.read_csv('./BX-CSV-Dump/BX-Users.csv', delimiter=';', header=0, encoding='latin1', usecols=[0])"
   ]
  },
  {
   "cell_type": "code",
   "execution_count": 3,
   "metadata": {},
   "outputs": [
    {
     "output_type": "execute_result",
     "data": {
      "text/plain": [
       "195"
      ]
     },
     "metadata": {},
     "execution_count": 3
    }
   ],
   "source": [
    "# Get the books with 200 ratings or more:\n",
    "isbn_gte_200 = set(ratings.ISBN.value_counts()[ratings.ISBN.value_counts() >= 200].index)\n",
    "len(isbn_gte_200)"
   ]
  },
  {
   "cell_type": "code",
   "execution_count": 4,
   "metadata": {},
   "outputs": [
    {
     "output_type": "execute_result",
     "data": {
      "text/plain": [
       "731"
      ]
     },
     "metadata": {},
     "execution_count": 4
    }
   ],
   "source": [
    "# Get the books with 100 ratings or more:\n",
    "isbn_gte_100 = set(ratings.ISBN.value_counts()[ratings.ISBN.value_counts() >= 100].index)\n",
    "len(isbn_gte_100)"
   ]
  },
  {
   "cell_type": "code",
   "execution_count": 6,
   "metadata": {},
   "outputs": [
    {
     "output_type": "execute_result",
     "data": {
      "text/plain": [
       "2702"
      ]
     },
     "metadata": {},
     "execution_count": 6
    }
   ],
   "source": [
    "# Get the users that have rated at least 5 books in the `isbn_gte_200` set:\n",
    "users_gte_5 = ratings[ratings.ISBN.map(lambda isbn: isbn in isbn_gte_200)]['User-ID'].value_counts()\n",
    "users_gte_5 = set(users_gte_5[users_gte_5 >= 5].index)\n",
    "len(users_gte_5)"
   ]
  },
  {
   "cell_type": "code",
   "execution_count": 15,
   "metadata": {},
   "outputs": [
    {
     "output_type": "execute_result",
     "data": {
      "text/plain": [
       "80871"
      ]
     },
     "metadata": {},
     "execution_count": 15
    }
   ],
   "source": [
    "# Get the ratings of books in `isbn_gte_100` by users in `users_gte_5`:\n",
    "reviews_to_insert = ratings[(\n",
    "    ratings['User-ID'].map(lambda id: id in users_gte_5) & ratings.ISBN.map(lambda isbn: isbn in isbn_gte_100)\n",
    ")].sort_values('User-ID')\n",
    "\n",
    "len(reviews_to_insert)"
   ]
  },
  {
   "cell_type": "code",
   "execution_count": 42,
   "metadata": {},
   "outputs": [],
   "source": [
    "# Rename columns\n",
    "reviews_to_insert.rename(columns={'User-ID': 'user_id', 'ISBN': 'isbn_10', 'Book-Rating': 'rating'}, inplace=True)"
   ]
  },
  {
   "cell_type": "code",
   "execution_count": 43,
   "metadata": {},
   "outputs": [],
   "source": [
    "reviews_to_insert.to_csv('./reviews_to_insert.csv', index=False)"
   ]
  },
  {
   "cell_type": "code",
   "execution_count": 21,
   "metadata": {},
   "outputs": [],
   "source": [
    "import requests"
   ]
  },
  {
   "cell_type": "code",
   "execution_count": 22,
   "metadata": {},
   "outputs": [],
   "source": [
    "res = requests.get('https://randomuser.me/api/')"
   ]
  },
  {
   "cell_type": "code",
   "execution_count": 32,
   "metadata": {},
   "outputs": [
    {
     "output_type": "execute_result",
     "data": {
      "text/plain": [
       "'bluecat473'"
      ]
     },
     "metadata": {},
     "execution_count": 32
    }
   ],
   "source": [
    "res.json()['results'][0]['login']['username']"
   ]
  },
  {
   "cell_type": "code",
   "execution_count": 39,
   "metadata": {},
   "outputs": [
    {
     "output_type": "stream",
     "text": [
      "\u001b[0;31mSignature:\u001b[0m \u001b[0mreviews_to_insert\u001b[0m\u001b[0;34m.\u001b[0m\u001b[0mitertuples\u001b[0m\u001b[0;34m(\u001b[0m\u001b[0mindex\u001b[0m\u001b[0;34m:\u001b[0m \u001b[0;34m'bool'\u001b[0m \u001b[0;34m=\u001b[0m \u001b[0;32mTrue\u001b[0m\u001b[0;34m,\u001b[0m \u001b[0mname\u001b[0m\u001b[0;34m:\u001b[0m \u001b[0;34m'Optional[str]'\u001b[0m \u001b[0;34m=\u001b[0m \u001b[0;34m'Pandas'\u001b[0m\u001b[0;34m)\u001b[0m\u001b[0;34m\u001b[0m\u001b[0;34m\u001b[0m\u001b[0m\n",
      "\u001b[0;31mDocstring:\u001b[0m\n",
      "Iterate over DataFrame rows as namedtuples.\n",
      "\n",
      "Parameters\n",
      "----------\n",
      "index : bool, default True\n",
      "    If True, return the index as the first element of the tuple.\n",
      "name : str or None, default \"Pandas\"\n",
      "    The name of the returned namedtuples or None to return regular\n",
      "    tuples.\n",
      "\n",
      "Returns\n",
      "-------\n",
      "iterator\n",
      "    An object to iterate over namedtuples for each row in the\n",
      "    DataFrame with the first field possibly being the index and\n",
      "    following fields being the column values.\n",
      "\n",
      "See Also\n",
      "--------\n",
      "DataFrame.iterrows : Iterate over DataFrame rows as (index, Series)\n",
      "    pairs.\n",
      "DataFrame.items : Iterate over (column name, Series) pairs.\n",
      "\n",
      "Notes\n",
      "-----\n",
      "The column names will be renamed to positional names if they are\n",
      "invalid Python identifiers, repeated, or start with an underscore.\n",
      "On python versions < 3.7 regular tuples are returned for DataFrames\n",
      "with a large number of columns (>254).\n",
      "\n",
      "Examples\n",
      "--------\n",
      ">>> df = pd.DataFrame({'num_legs': [4, 2], 'num_wings': [0, 2]},\n",
      "...                   index=['dog', 'hawk'])\n",
      ">>> df\n",
      "      num_legs  num_wings\n",
      "dog          4          0\n",
      "hawk         2          2\n",
      ">>> for row in df.itertuples():\n",
      "...     print(row)\n",
      "...\n",
      "Pandas(Index='dog', num_legs=4, num_wings=0)\n",
      "Pandas(Index='hawk', num_legs=2, num_wings=2)\n",
      "\n",
      "By setting the `index` parameter to False we can remove the index\n",
      "as the first element of the tuple:\n",
      "\n",
      ">>> for row in df.itertuples(index=False):\n",
      "...     print(row)\n",
      "...\n",
      "Pandas(num_legs=4, num_wings=0)\n",
      "Pandas(num_legs=2, num_wings=2)\n",
      "\n",
      "With the `name` parameter set we set a custom name for the yielded\n",
      "namedtuples:\n",
      "\n",
      ">>> for row in df.itertuples(name='Animal'):\n",
      "...     print(row)\n",
      "...\n",
      "Animal(Index='dog', num_legs=4, num_wings=0)\n",
      "Animal(Index='hawk', num_legs=2, num_wings=2)\n",
      "\u001b[0;31mFile:\u001b[0m      ~/opt/anaconda3/envs/books_mongo/lib/python3.7/site-packages/pandas/core/frame.py\n",
      "\u001b[0;31mType:\u001b[0m      method\n"
     ],
     "name": "stdout"
    }
   ],
   "source": [
    "reviews_to_insert.itertuples?"
   ]
  },
  {
   "cell_type": "code",
   "execution_count": null,
   "metadata": {},
   "outputs": [],
   "source": []
  },
  {
   "cell_type": "code",
   "execution_count": null,
   "metadata": {},
   "outputs": [],
   "source": []
  }
 ]
}