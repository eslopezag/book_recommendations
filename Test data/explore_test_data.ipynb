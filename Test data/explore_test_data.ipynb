{
 "metadata": {
  "language_info": {
   "codemirror_mode": {
    "name": "ipython",
    "version": 3
   },
   "file_extension": ".py",
   "mimetype": "text/x-python",
   "name": "python",
   "nbconvert_exporter": "python",
   "pygments_lexer": "ipython3",
   "version": "3.7.6-final"
  },
  "orig_nbformat": 2,
  "kernelspec": {
   "name": "python3",
   "display_name": "Python 3",
   "language": "python"
  }
 },
 "nbformat": 4,
 "nbformat_minor": 2,
 "cells": [
  {
   "cell_type": "code",
   "execution_count": 1,
   "metadata": {},
   "outputs": [],
   "source": [
    "import pandas as pd"
   ]
  },
  {
   "cell_type": "code",
   "execution_count": 2,
   "metadata": {},
   "outputs": [],
   "source": [
    "# Parse data as pandas dataframes:\n",
    "ratings = pd.read_csv('./BX-Book-Ratings.csv', delimiter=';', header=0, encoding='latin1')"
   ]
  },
  {
   "cell_type": "code",
   "execution_count": 3,
   "metadata": {},
   "outputs": [
    {
     "output_type": "execute_result",
     "data": {
      "text/plain": [
       "195"
      ]
     },
     "metadata": {},
     "execution_count": 3
    }
   ],
   "source": [
    "# Get the books with 200 ratings or more:\n",
    "isbn_gte_200 = set(ratings.ISBN.value_counts()[ratings.ISBN.value_counts() >= 200].index)\n",
    "len(isbn_gte_200)"
   ]
  },
  {
   "cell_type": "code",
   "execution_count": 4,
   "metadata": {},
   "outputs": [
    {
     "output_type": "execute_result",
     "data": {
      "text/plain": [
       "731"
      ]
     },
     "metadata": {},
     "execution_count": 4
    }
   ],
   "source": [
    "# Get the books with 100 ratings or more:\n",
    "isbn_gte_100 = set(ratings.ISBN.value_counts()[ratings.ISBN.value_counts() >= 100].index)\n",
    "len(isbn_gte_100)"
   ]
  },
  {
   "cell_type": "code",
   "execution_count": 5,
   "metadata": {},
   "outputs": [
    {
     "output_type": "execute_result",
     "data": {
      "text/plain": [
       "2702"
      ]
     },
     "metadata": {},
     "execution_count": 5
    }
   ],
   "source": [
    "# Get the users that have rated at least 5 books in the `isbn_gte_200` set:\n",
    "users_gte_5 = ratings[ratings.ISBN.map(lambda isbn: isbn in isbn_gte_200)]['User-ID'].value_counts()\n",
    "users_gte_5 = set(users_gte_5[users_gte_5 >= 5].index)\n",
    "len(users_gte_5)"
   ]
  },
  {
   "cell_type": "code",
   "execution_count": 6,
   "metadata": {},
   "outputs": [
    {
     "output_type": "execute_result",
     "data": {
      "text/plain": [
       "80871"
      ]
     },
     "metadata": {},
     "execution_count": 6
    }
   ],
   "source": [
    "# Get the ratings of books in `isbn_gte_100` by users in `users_gte_5`:\n",
    "reviews_to_insert = ratings[(\n",
    "    ratings['User-ID'].map(lambda id: id in users_gte_5) & ratings.ISBN.map(lambda isbn: isbn in isbn_gte_100)\n",
    ")].sort_values('User-ID')\n",
    "\n",
    "len(reviews_to_insert)"
   ]
  },
  {
   "cell_type": "code",
   "execution_count": 7,
   "metadata": {},
   "outputs": [],
   "source": [
    "# Rename columns\n",
    "reviews_to_insert.rename(columns={'User-ID': 'user_id', 'ISBN': 'isbn_10', 'Book-Rating': 'rating'}, inplace=True)"
   ]
  },
  {
   "cell_type": "code",
   "execution_count": 8,
   "metadata": {},
   "outputs": [],
   "source": [
    "reviews_to_insert.to_csv('./reviews_to_insert.csv', index=False)"
   ]
  },
  {
   "cell_type": "code",
   "execution_count": null,
   "metadata": {},
   "outputs": [],
   "source": []
  }
 ]
}